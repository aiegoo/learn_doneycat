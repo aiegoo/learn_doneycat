{
 "cells": [
  {
   "cell_type": "code",
   "execution_count": 2,
   "metadata": {},
   "outputs": [],
   "source": [
    "import Jetson.GPIO as GPIO\n",
    "import time"
   ]
  },
  {
   "cell_type": "code",
   "execution_count": 3,
   "metadata": {},
   "outputs": [
    {
     "name": "stdout",
     "output_type": "stream",
     "text": [
      "Starting demo now! Press CTRL+C to exit\n",
      "Outputting 1 to pin 12\n",
      "Outputting 0 to pin 12\n",
      "Outputting 0 to pin 12\n",
      "Outputting 0 to pin 12\n",
      "Outputting 0 to pin 12\n",
      "Outputting 0 to pin 12\n",
      "Outputting 0 to pin 12\n",
      "Outputting 0 to pin 12\n",
      "Outputting 0 to pin 12\n",
      "Outputting 0 to pin 12\n",
      "Outputting 0 to pin 12\n",
      "Outputting 0 to pin 12\n",
      "Outputting 0 to pin 12\n",
      "Outputting 0 to pin 12\n",
      "Outputting 0 to pin 12\n",
      "Outputting 0 to pin 12\n",
      "Outputting 0 to pin 12\n",
      "Outputting 0 to pin 12\n",
      "Outputting 0 to pin 12\n",
      "Outputting 0 to pin 12\n",
      "Outputting 0 to pin 12\n",
      "Outputting 0 to pin 12\n",
      "Outputting 0 to pin 12\n",
      "Outputting 0 to pin 12\n",
      "Outputting 0 to pin 12\n",
      "Outputting 0 to pin 12\n",
      "Outputting 0 to pin 12\n",
      "Outputting 0 to pin 12\n",
      "Outputting 0 to pin 12\n",
      "Outputting 0 to pin 12\n",
      "Outputting 0 to pin 12\n",
      "Outputting 0 to pin 12\n",
      "Outputting 0 to pin 12\n",
      "Outputting 0 to pin 12\n",
      "Outputting 0 to pin 12\n",
      "Outputting 0 to pin 12\n",
      "Outputting 0 to pin 12\n",
      "Outputting 0 to pin 12\n",
      "Outputting 0 to pin 12\n",
      "Outputting 0 to pin 12\n",
      "Outputting 0 to pin 12\n",
      "Outputting 0 to pin 12\n",
      "Outputting 0 to pin 12\n",
      "Outputting 0 to pin 12\n",
      "Outputting 0 to pin 12\n",
      "Outputting 0 to pin 12\n",
      "Outputting 0 to pin 12\n",
      "Outputting 0 to pin 12\n",
      "Outputting 0 to pin 12\n",
      "Outputting 0 to pin 12\n",
      "Outputting 0 to pin 12\n",
      "Outputting 0 to pin 12\n",
      "Outputting 0 to pin 12\n",
      "Outputting 0 to pin 12\n",
      "Outputting 0 to pin 12\n",
      "Outputting 0 to pin 12\n",
      "Outputting 0 to pin 12\n",
      "Outputting 0 to pin 12\n",
      "Outputting 0 to pin 12\n",
      "Outputting 0 to pin 12\n",
      "Outputting 0 to pin 12\n",
      "Outputting 0 to pin 12\n",
      "Outputting 0 to pin 12\n",
      "Outputting 0 to pin 12\n",
      "Outputting 0 to pin 12\n",
      "Outputting 0 to pin 12\n",
      "Outputting 0 to pin 12\n",
      "Outputting 0 to pin 12\n",
      "Outputting 0 to pin 12\n",
      "Outputting 0 to pin 12\n"
     ]
    },
    {
     "ename": "KeyboardInterrupt",
     "evalue": "",
     "output_type": "error",
     "traceback": [
      "\u001b[0;31m---------------------------------------------------------------------------\u001b[0m",
      "\u001b[0;31mKeyboardInterrupt\u001b[0m                         Traceback (most recent call last)",
      "\u001b[0;32m<ipython-input-3-772b3eeb84b5>\u001b[0m in \u001b[0;36m<module>\u001b[0;34m\u001b[0m\n\u001b[1;32m     11\u001b[0m \u001b[0;32mtry\u001b[0m\u001b[0;34m:\u001b[0m\u001b[0;34m\u001b[0m\u001b[0;34m\u001b[0m\u001b[0m\n\u001b[1;32m     12\u001b[0m     \u001b[0;32mwhile\u001b[0m \u001b[0;32mTrue\u001b[0m\u001b[0;34m:\u001b[0m\u001b[0;34m\u001b[0m\u001b[0;34m\u001b[0m\u001b[0m\n\u001b[0;32m---> 13\u001b[0;31m         \u001b[0mtime\u001b[0m\u001b[0;34m.\u001b[0m\u001b[0msleep\u001b[0m\u001b[0;34m(\u001b[0m\u001b[0;36m1\u001b[0m\u001b[0;34m)\u001b[0m\u001b[0;34m\u001b[0m\u001b[0;34m\u001b[0m\u001b[0m\n\u001b[0m\u001b[1;32m     14\u001b[0m        \u001b[0;31m# Toggle the output every second\u001b[0m\u001b[0;34m\u001b[0m\u001b[0;34m\u001b[0m\u001b[0;34m\u001b[0m\u001b[0m\n\u001b[1;32m     15\u001b[0m         \u001b[0mprint\u001b[0m\u001b[0;34m(\u001b[0m\u001b[0;34m\"Outputting {} to pin {}\"\u001b[0m\u001b[0;34m.\u001b[0m\u001b[0mformat\u001b[0m\u001b[0;34m(\u001b[0m\u001b[0mcurr_value\u001b[0m\u001b[0;34m,\u001b[0m \u001b[0moutput_pin\u001b[0m\u001b[0;34m)\u001b[0m\u001b[0;34m)\u001b[0m\u001b[0;34m\u001b[0m\u001b[0;34m\u001b[0m\u001b[0m\n",
      "\u001b[0;31mKeyboardInterrupt\u001b[0m: "
     ]
    }
   ],
   "source": [
    "\n",
    "# Pin Definitions\n",
    "output_pin = 12  # BCM pin 18, BOARD pin 12\n",
    "\n",
    "# Pin Setup:\n",
    "GPIO.setmode(GPIO.BOARD)  # BCM pin-numbering scheme from Raspberry Pi\n",
    "# set pin as an output pin with optional initial state of HIGH\n",
    "GPIO.setup(output_pin, GPIO.OUT, initial=GPIO.HIGH)\n",
    "\n",
    "print(\"Starting demo now! Press CTRL+C to exit\")\n",
    "curr_value = GPIO.HIGH\n",
    "try:\n",
    "    while True:\n",
    "        time.sleep(1)\n",
    "       # Toggle the output every second\n",
    "        print(\"Outputting {} to pin {}\".format(curr_value, output_pin))\n",
    "        GPIO.output(output_pin, curr_value)\n",
    "        curr_value = 1 - GPIO.HIGH\n",
    "finally:\n",
    "    GPIO.cleanup()"
   ]
  },
  {
   "cell_type": "code",
   "execution_count": null,
   "metadata": {},
   "outputs": [],
   "source": []
  }
 ],
 "metadata": {
  "kernelspec": {
   "display_name": "Python 3",
   "language": "python",
   "name": "python3"
  },
  "language_info": {
   "codemirror_mode": {
    "name": "ipython",
    "version": 3
   },
   "file_extension": ".py",
   "mimetype": "text/x-python",
   "name": "python",
   "nbconvert_exporter": "python",
   "pygments_lexer": "ipython3",
   "version": "3.6.9"
  }
 },
 "nbformat": 4,
 "nbformat_minor": 4
}
