{
 "cells": [
  {
   "cell_type": "code",
   "execution_count": 1,
   "metadata": {},
   "outputs": [],
   "source": [
    "import Jetson.GPIO as GPIO\n",
    "import time\n"
   ]
  },
  {
   "cell_type": "code",
   "execution_count": 2,
   "metadata": {},
   "outputs": [
    {
     "name": "stdout",
     "output_type": "stream",
     "text": [
      "PWM running. Press CTRL+C to exit.\n",
      "Outputting 25 to pin 33\n",
      "Outputting 30 to pin 33\n",
      "Outputting 35 to pin 33\n",
      "Outputting 40 to pin 33\n",
      "Outputting 45 to pin 33\n",
      "Outputting 50 to pin 33\n",
      "Outputting 55 to pin 33\n",
      "Outputting 60 to pin 33\n",
      "Outputting 65 to pin 33\n",
      "Outputting 70 to pin 33\n",
      "Outputting 75 to pin 33\n",
      "Outputting 80 to pin 33\n",
      "Outputting 85 to pin 33\n",
      "Outputting 90 to pin 33\n",
      "Outputting 95 to pin 33\n",
      "Outputting 100 to pin 33\n",
      "Outputting 95 to pin 33\n",
      "Outputting 90 to pin 33\n",
      "Outputting 85 to pin 33\n",
      "Outputting 80 to pin 33\n",
      "Outputting 75 to pin 33\n"
     ]
    },
    {
     "ename": "KeyboardInterrupt",
     "evalue": "",
     "output_type": "error",
     "traceback": [
      "\u001b[0;31m---------------------------------------------------------------------------\u001b[0m",
      "\u001b[0;31mKeyboardInterrupt\u001b[0m                         Traceback (most recent call last)",
      "\u001b[0;32m<ipython-input-2-5418557f75a0>\u001b[0m in \u001b[0;36m<module>\u001b[0;34m\u001b[0m\n\u001b[1;32m     23\u001b[0m \u001b[0;32mtry\u001b[0m\u001b[0;34m:\u001b[0m\u001b[0;34m\u001b[0m\u001b[0;34m\u001b[0m\u001b[0m\n\u001b[1;32m     24\u001b[0m     \u001b[0;32mwhile\u001b[0m \u001b[0;32mTrue\u001b[0m\u001b[0;34m:\u001b[0m\u001b[0;34m\u001b[0m\u001b[0;34m\u001b[0m\u001b[0m\n\u001b[0;32m---> 25\u001b[0;31m         \u001b[0mtime\u001b[0m\u001b[0;34m.\u001b[0m\u001b[0msleep\u001b[0m\u001b[0;34m(\u001b[0m\u001b[0;36m0.25\u001b[0m\u001b[0;34m)\u001b[0m\u001b[0;34m\u001b[0m\u001b[0;34m\u001b[0m\u001b[0m\n\u001b[0m\u001b[1;32m     26\u001b[0m         \u001b[0;32mif\u001b[0m \u001b[0mval\u001b[0m \u001b[0;34m>=\u001b[0m \u001b[0;36m100\u001b[0m\u001b[0;34m:\u001b[0m\u001b[0;34m\u001b[0m\u001b[0;34m\u001b[0m\u001b[0m\n\u001b[1;32m     27\u001b[0m             \u001b[0mincr\u001b[0m \u001b[0;34m=\u001b[0m \u001b[0;34m-\u001b[0m\u001b[0mincr\u001b[0m\u001b[0;34m\u001b[0m\u001b[0;34m\u001b[0m\u001b[0m\n",
      "\u001b[0;31mKeyboardInterrupt\u001b[0m: "
     ]
    }
   ],
   "source": [
    "output_pins = {\n",
    "    'JETSON_XAVIER': 18,\n",
    "    'JETSON_NANO': 33,\n",
    "    'JETSON_NX': 33,\n",
    "    'CLARA_AGX_XAVIER': 18,\n",
    "}\n",
    "output_pin = output_pins.get(GPIO.model, None)\n",
    "if output_pin is None:\n",
    "    raise Exception('PWM not supported on this board')\n",
    "\n",
    "# output_pin = 33\n",
    "# Pin Setup:\n",
    "# Board pin-numbering scheme\n",
    "GPIO.setmode(GPIO.BOARD)\n",
    "# set pin as an output pin with optional initial state of HIGH\n",
    "GPIO.setup(output_pin, GPIO.OUT, initial=GPIO.HIGH)\n",
    "pwm = GPIO.PWM(output_pin, 50)\n",
    "val = 25\n",
    "incr = 5\n",
    "pwm.start(val)\n",
    "\n",
    "print(\"PWM running. Press CTRL+C to exit.\")\n",
    "try:\n",
    "    while True:\n",
    "        time.sleep(0.25)\n",
    "        if val >= 100:\n",
    "            incr = -incr\n",
    "        if val <= 0:\n",
    "            incr = -incr\n",
    "\n",
    "        print(\"Outputting {} to pin {}\".format(val, output_pin))    \n",
    "        val += incr\n",
    "        pwm.ChangeDutyCycle(val)\n",
    "finally:\n",
    "    pwm.stop()\n",
    "    GPIO.cleanup()\n"
   ]
  },
  {
   "cell_type": "code",
   "execution_count": null,
   "metadata": {},
   "outputs": [],
   "source": []
  }
 ],
 "metadata": {
  "kernelspec": {
   "display_name": "Python 3",
   "language": "python",
   "name": "python3"
  },
  "language_info": {
   "codemirror_mode": {
    "name": "ipython",
    "version": 3
   },
   "file_extension": ".py",
   "mimetype": "text/x-python",
   "name": "python",
   "nbconvert_exporter": "python",
   "pygments_lexer": "ipython3",
   "version": "3.6.9"
  }
 },
 "nbformat": 4,
 "nbformat_minor": 4
}
